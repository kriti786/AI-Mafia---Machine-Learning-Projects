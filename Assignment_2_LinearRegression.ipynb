{
 "cells": [
  {
   "cell_type": "code",
   "execution_count": 19,
   "metadata": {},
   "outputs": [],
   "source": [
    "import numpy as np\n",
    "import pandas as pd\n",
    "import matplotlib.pyplot as plt"
   ]
  },
  {
   "cell_type": "code",
   "execution_count": 66,
   "metadata": {},
   "outputs": [
    {
     "name": "stdout",
     "output_type": "stream",
     "text": [
      "      feature_1  feature_2  feature_3  feature_4  feature_5      target\n",
      "0      0.293416  -0.945599  -0.421105   0.406816   0.525662  -82.154667\n",
      "1     -0.836084  -0.189228  -0.776403  -1.053831   0.597997  -48.897960\n",
      "2      0.236425   0.132836  -0.147723   0.699854  -0.187364   77.270371\n",
      "3      0.175312   0.143194  -0.581111  -0.122107  -1.292168   -2.988581\n",
      "4     -1.693011   0.542712  -2.798729  -0.686723   1.244077  -37.596722\n",
      "...         ...        ...        ...        ...        ...         ...\n",
      "1595  -0.274961  -0.820634  -0.757173  -0.147555  -0.307149  -80.110012\n",
      "1596  -0.076099   0.255257   0.290054   1.796036   0.340350  118.315601\n",
      "1597   1.044177  -0.899206   1.730399  -1.871057   0.442520 -107.510508\n",
      "1598  -1.269173  -0.005052   1.857669  -1.080365   0.736334  -47.341558\n",
      "1599  -1.884000  -0.849427  -1.452270   0.488613   1.459576 -115.939003\n",
      "\n",
      "[1600 rows x 6 columns]\n",
      "[[ 0.29341624 -0.94559871 -0.42110515  0.40681602  0.52566183]\n",
      " [-0.83608408 -0.18922804 -0.77640262 -1.05383124  0.59799685]\n",
      " [ 0.23642511  0.13283602 -0.14772298  0.69985396 -0.18736416]\n",
      " ...\n",
      " [ 1.04417694 -0.89920649  1.73039905 -1.87105676  0.44251965]\n",
      " [-1.2691729  -0.00505216  1.85766873 -1.08036482  0.73633394]\n",
      " [-1.88400025 -0.84942743 -1.45227035  0.48861308  1.4595758 ]]\n",
      "[[ 2.93416239e-01 -9.45598713e-01 -4.21105147e-01  4.06816021e-01\n",
      "   5.25661832e-01 -8.21546666e+01]\n",
      " [-8.36084081e-01 -1.89228039e-01 -7.76402618e-01 -1.05383124e+00\n",
      "   5.97996852e-01 -4.88979602e+01]\n",
      " [ 2.36425114e-01  1.32836018e-01 -1.47722982e-01  6.99853963e-01\n",
      "  -1.87364163e-01  7.72703707e+01]\n",
      " ...\n",
      " [-7.60992777e-02  2.55256542e-01  2.90053829e-01  1.79603552e+00\n",
      "   3.40350241e-01  1.18315601e+02]\n",
      " [ 1.04417694e+00 -8.99206485e-01  1.73039905e+00 -1.87105676e+00\n",
      "   4.42519647e-01 -1.07510508e+02]\n",
      " [-1.26917290e+00 -5.05215916e-03  1.85766873e+00 -1.08036482e+00\n",
      "   7.36333937e-01 -4.73415578e+01]]\n",
      "[-0.83608408 -0.18922804 -0.77640262 -1.05383124  0.59799685]\n"
     ]
    }
   ],
   "source": [
    "dfx = pd.read_csv('Train.csv')\n",
    "print(dfx)\n",
    "x=dfx.iloc[:,:5 ].values\n",
    "#x=x.reshape((1,-1))\n",
    "print(x)\n",
    "#y=dfx[['target']].values\n",
    "y=dfx.iloc[:-1].values\n",
    "#y=y.reshape((1,-1))\n",
    "print(y)\n"
   ]
  },
  {
   "cell_type": "code",
   "execution_count": 51,
   "metadata": {},
   "outputs": [
    {
     "name": "stdout",
     "output_type": "stream",
     "text": [
      "      feature_1  feature_2  feature_3  feature_4  feature_5      target\n",
      "0      0.293416  -0.945599  -0.421105   0.406816   0.525662  -82.154667\n",
      "1     -0.836084  -0.189228  -0.776403  -1.053831   0.597997  -48.897960\n",
      "2      0.236425   0.132836  -0.147723   0.699854  -0.187364   77.270371\n",
      "3      0.175312   0.143194  -0.581111  -0.122107  -1.292168   -2.988581\n",
      "4     -1.693011   0.542712  -2.798729  -0.686723   1.244077  -37.596722\n",
      "...         ...        ...        ...        ...        ...         ...\n",
      "1595  -0.274961  -0.820634  -0.757173  -0.147555  -0.307149  -80.110012\n",
      "1596  -0.076099   0.255257   0.290054   1.796036   0.340350  118.315601\n",
      "1597   1.044177  -0.899206   1.730399  -1.871057   0.442520 -107.510508\n",
      "1598  -1.269173  -0.005052   1.857669  -1.080365   0.736334  -47.341558\n",
      "1599  -1.884000  -0.849427  -1.452270   0.488613   1.459576 -115.939003\n",
      "\n",
      "[1600 rows x 6 columns]\n",
      "[[ 0.29341624 -0.94559871 -0.42110515  0.40681602  0.52566183]\n",
      " [-0.83608408 -0.18922804 -0.77640262 -1.05383124  0.59799685]\n",
      " [ 0.23642511  0.13283602 -0.14772298  0.69985396 -0.18736416]\n",
      " ...\n",
      " [ 1.04417694 -0.89920649  1.73039905 -1.87105676  0.44251965]\n",
      " [-1.2691729  -0.00505216  1.85766873 -1.08036482  0.73633394]\n",
      " [-1.88400025 -0.84942743 -1.45227035  0.48861308  1.4595758 ]]\n",
      "[ -82.15466656  -48.89796018   77.2703707  ... -107.51050797  -47.34155781\n",
      " -115.93900296]\n"
     ]
    }
   ],
   "source": [
    "d=pd.read_csv(\"Train.csv\")\n",
    "print(d)\n",
    "d_x=d.iloc[:,:5].values\n",
    "d_y=d.iloc[:,-1].values\n",
    "print(d_x)\n",
    "print(d_y) "
   ]
  },
  {
   "cell_type": "code",
   "execution_count": 71,
   "metadata": {},
   "outputs": [
    {
     "data": {
      "image/png": "[encoded data removed]",
      "text/plain": [
       "<Figure size 432x288 with 1 Axes>"
      ]
     },
     "metadata": {
      "needs_background": "light"
     },
     "output_type": "display_data"
    }
   ],
   "source": [
    "#plt.scatter(dfx['feature_1'],dfx['target'])\n",
    "X = (dfx['feature_1']-dfx['feature_1'].mean())/dfx['feature_1'].std()\n",
    "Y = dfx['target']\n",
    "plt.scatter(X,Y) \n",
    "plt.show()"
   ]
  },
  {
   "cell_type": "code",
   "execution_count": 72,
   "metadata": {},
   "outputs": [],
   "source": [
    "def hypothesis(x,theta):\n",
    "    return theta[0] + theta[1]*x\n"
   ]
  },
  {
   "cell_type": "code",
   "execution_count": 73,
   "metadata": {},
   "outputs": [],
   "source": [
    "def error(X,Y,theta):\n",
    "    \n",
    "    m = X.shape[0]\n",
    "    error = 0\n",
    "    \n",
    "    for i in range(m):\n",
    "        hx = hypothesis(X[i],theta)\n",
    "        error += (hx-Y[i])**2\n",
    "        \n",
    "    return error"
   ]
  },
  {
   "cell_type": "code",
   "execution_count": 74,
   "metadata": {},
   "outputs": [],
   "source": [
    "def gradient(X,Y,theta):\n",
    "    \n",
    "    grad = np.zeros((2,))\n",
    "    m = X.shape[0]\n",
    "\n",
    "    for i in range(m):\n",
    "        hx = hypothesis(X[i],theta)\n",
    "        grad[0] +=  (hx-Y[i])\n",
    "        grad[1] += (hx-Y[i])*X[i]\n",
    "        \n",
    "    return grad"
   ]
  },
  {
   "cell_type": "code",
   "execution_count": 75,
   "metadata": {},
   "outputs": [],
   "source": [
    "def gradientDescent(X,Y,learning_rate=0.001):\n",
    "    \n",
    "    theta = np.array([-2.0,0.0])\n",
    "    \n",
    "    itr = 0\n",
    "    max_itr = 100\n",
    "    \n",
    "    error_list = []\n",
    "    theta_list = []\n",
    "    \n",
    "    while(itr<=max_itr):\n",
    "        grad = gradient(X,Y,theta)\n",
    "        e = error(X,Y,theta)\n",
    "        error_list.append(e)\n",
    "        \n",
    "        theta_list.append((theta[0],theta[1]))\n",
    "        theta[0] = theta[0] - learning_rate*grad[0]\n",
    "        theta[1] = theta[1] - learning_rate*grad[1]\n",
    "        \n",
    "        \n",
    "        itr += 1\n",
    "        \n",
    "    \n",
    "    return theta,error_list,theta_list\n"
   ]
  },
  {
   "cell_type": "code",
   "execution_count": 76,
   "metadata": {},
   "outputs": [],
   "source": [
    "final_theta, error_list,theta_list = gradientDescent(X,Y)"
   ]
  },
  {
   "cell_type": "code",
   "execution_count": 77,
   "metadata": {},
   "outputs": [
    {
     "data": {
      "image/png": "[encoded data removed]",
      "text/plain": [
       "<Figure size 432x288 with 1 Axes>"
      ]
     },
     "metadata": {
      "needs_background": "light"
     },
     "output_type": "display_data"
    }
   ],
   "source": [
    "plt.plot(error_list)\n",
    "plt.show()"
   ]
  },
  {
   "cell_type": "code",
   "execution_count": 78,
   "metadata": {},
   "outputs": [
    {
     "name": "stdout",
     "output_type": "stream",
     "text": [
      "[ 0.31883538 28.82311655]\n"
     ]
    }
   ],
   "source": [
    "print(final_theta)"
   ]
  },
  {
   "cell_type": "code",
   "execution_count": 85,
   "metadata": {},
   "outputs": [
    {
     "name": "stdout",
     "output_type": "stream",
     "text": [
      "[[ 1.01525387e+00  2.07620944e+00 -2.66434820e-01 -2.41808820e+00\n",
      "  -9.80502790e-01]\n",
      " [-3.75021204e-01  9.53184528e-01  6.26719138e-01  7.04405750e-01\n",
      "  -3.55489211e-01]\n",
      " [-1.02445225e+00  9.62991107e-01 -4.07942004e-01 -1.86127383e+00\n",
      "   4.55201351e-01]\n",
      " ...\n",
      " [ 5.54727647e-01  1.76824345e+00 -8.97787210e-01 -1.19366107e+00\n",
      "   3.40563374e-01]\n",
      " [-1.62717246e+00  8.56470994e-01 -5.65729519e-04  6.29386649e-01\n",
      "   4.53382144e-01]\n",
      " [ 1.39310499e-01  5.31597186e-01 -8.53107053e-01  3.16920076e-02\n",
      "   1.71489304e+00]]\n"
     ]
    }
   ],
   "source": [
    "xtest=pd.read_csv('Test.csv').values\n",
    "xtest.reshape((1,-1))\n",
    "print(xtest)"
   ]
  },
  {
   "cell_type": "code",
   "execution_count": 86,
   "metadata": {},
   "outputs": [
    {
     "data": {
      "image/png": "[encoded data removed]",
      "text/plain": [
       "<Figure size 432x288 with 1 Axes>"
      ]
     },
     "metadata": {
      "needs_background": "light"
     },
     "output_type": "display_data"
    }
   ],
   "source": [
    "plt.scatter(X,Y,label='Training Data')\n",
    "plt.plot(xtest,hypothesis(xtest,final_theta),color='orange',label=\"Prediction\")\n",
    "plt.legend()\n",
    "plt.show()"
   ]
  },
  {
   "cell_type": "code",
   "execution_count": null,
   "metadata": {},
   "outputs": [],
   "source": []
  }
 ],
 "metadata": {
  "kernelspec": {
   "display_name": "Python 3",
   "language": "python",
   "name": "python3"
  },
  "language_info": {
   "codemirror_mode": {
    "name": "ipython",
    "version": 3
   },
   "file_extension": ".py",
   "mimetype": "text/x-python",
   "name": "python",
   "nbconvert_exporter": "python",
   "pygments_lexer": "ipython3",
   "version": "3.7.4"
  }
 },
 "nbformat": 4,
 "nbformat_minor": 2
}
