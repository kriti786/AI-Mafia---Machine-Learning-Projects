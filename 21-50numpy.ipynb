{
 "cells": [
  {
   "cell_type": "code",
   "execution_count": 4,
   "metadata": {},
   "outputs": [
    {
     "name": "stdout",
     "output_type": "stream",
     "text": [
      "[[1 0 1 0 1 0 1 0]\n",
      " [0 1 0 1 0 1 0 1]\n",
      " [1 0 1 0 1 0 1 0]\n",
      " [0 1 0 1 0 1 0 1]\n",
      " [1 0 1 0 1 0 1 0]\n",
      " [0 1 0 1 0 1 0 1]\n",
      " [1 0 1 0 1 0 1 0]\n",
      " [0 1 0 1 0 1 0 1]]\n"
     ]
    }
   ],
   "source": [
    "import numpy as np\n",
    "#21\n",
    "arr=np.array([[1,0],[0,1]])\n",
    "arr=np.tile(arr,(4,4))\n",
    "print(arr)"
   ]
  },
  {
   "cell_type": "code",
   "execution_count": 7,
   "metadata": {},
   "outputs": [
    {
     "name": "stdout",
     "output_type": "stream",
     "text": [
      "[[0.18505885 0.23432625 0.85990028 0.22850171 0.68429077]\n",
      " [0.33928942 0.54587899 0.67480352 0.08591911 0.57152327]\n",
      " [0.10669506 0.02935268 0.91230227 0.46808688 0.41991852]\n",
      " [0.87979444 0.85460649 0.21878377 0.07213342 0.4939557 ]\n",
      " [0.7214622  0.60292798 0.69245767 0.94483483 0.57321612]]\n",
      "[[0.17008105 0.22389685 0.90722424 0.21753459 0.71540236]\n",
      " [0.33855028 0.56421232 0.70503924 0.06178868 0.59222409]\n",
      " [0.08448267 0.         0.96446401 0.4792384  0.42662311]\n",
      " [0.92895504 0.90144173 0.20691948 0.04673028 0.50749544]\n",
      " [0.75600548 0.62652811 0.72432324 1.         0.59407324]]\n"
     ]
    }
   ],
   "source": [
    "#22\n",
    "arr=np.random.random((5,5))\n",
    "print(arr)\n",
    "narr=(arr-arr.min())/(arr.max()-arr.min())\n",
    "print(narr)"
   ]
  },
  {
   "cell_type": "code",
   "execution_count": 10,
   "metadata": {},
   "outputs": [
    {
     "name": "stdout",
     "output_type": "stream",
     "text": [
      "[('r', 'u1'), ('g', 'u1'), ('b', 'u1'), ('a', 'u1')]\n"
     ]
    }
   ],
   "source": [
    "#23\n",
    "color = np.dtype([(\"r\", np.ubyte, 1),\n",
    "                  (\"g\", np.ubyte, 1),\n",
    "                  (\"b\", np.ubyte, 1),\n",
    "                  (\"a\", np.ubyte, 1)])\n",
    "print(color)\n"
   ]
  },
  {
   "cell_type": "code",
   "execution_count": 12,
   "metadata": {},
   "outputs": [
    {
     "name": "stdout",
     "output_type": "stream",
     "text": [
      "[[0.83769024 0.96460883]\n",
      " [1.63704051 1.76759159]\n",
      " [1.29165842 1.34488398]\n",
      " [1.11391865 1.23687815]\n",
      " [0.60348739 0.69388346]]\n"
     ]
    }
   ],
   "source": [
    "#24\n",
    "a=np.random.random((5,3))\n",
    "b=np.random.random((3,2))\n",
    "print(a.dot(b))"
   ]
  },
  {
   "cell_type": "code",
   "execution_count": 15,
   "metadata": {},
   "outputs": [
    {
     "name": "stdout",
     "output_type": "stream",
     "text": [
      "[ 1  2  3 -4 -5 -6 -7  8  9 10]\n"
     ]
    }
   ],
   "source": [
    "#25\n",
    "arr=np.arange(1,11)\n",
    "arr[(arr>3) & (arr<8)]*=-1\n",
    "print(arr)"
   ]
  },
  {
   "cell_type": "code",
   "execution_count": 16,
   "metadata": {},
   "outputs": [
    {
     "name": "stdout",
     "output_type": "stream",
     "text": [
      "9\n",
      "10\n"
     ]
    }
   ],
   "source": [
    "#26\n",
    "print(sum(range(5),-1))\n",
    "from numpy import *\n",
    "print(sum(range(5),-1))"
   ]
  },
  {
   "cell_type": "code",
   "execution_count": 23,
   "metadata": {},
   "outputs": [
    {
     "ename": "SyntaxError",
     "evalue": "invalid syntax (<ipython-input-23-2b90535468a4>, line 3)",
     "output_type": "error",
     "traceback": [
      "\u001b[1;36m  File \u001b[1;32m\"<ipython-input-23-2b90535468a4>\"\u001b[1;36m, line \u001b[1;32m3\u001b[0m\n\u001b[1;33m    print(Z**Z)\u001b[0m\n\u001b[1;37m        ^\u001b[0m\n\u001b[1;31mSyntaxError\u001b[0m\u001b[1;31m:\u001b[0m invalid syntax\n"
     ]
    }
   ],
   "source": [
    "#27\n",
    "Z=np.arange(np.random.random((5))\n",
    "print(Z**Z)\n",
    "print(2 << Z >> 2)\n",
    "print(Z <- Z)\n",
    "print(1j*Z)\n",
    "print(Z/1/1)\n",
    "print(Z<Z>Z)"
   ]
  },
  {
   "cell_type": "code",
   "execution_count": 31,
   "metadata": {},
   "outputs": [
    {
     "name": "stdout",
     "output_type": "stream",
     "text": [
      "nan\n",
      "0\n",
      "[-2.14748365e+09]\n"
     ]
    },
    {
     "data": {
      "text/plain": [
       "{'divide': 'ignore', 'over': 'ignore', 'under': 'ignore', 'invalid': 'ignore'}"
      ]
     },
     "execution_count": 31,
     "metadata": {},
     "output_type": "execute_result"
    }
   ],
   "source": [
    "#28#31\n",
    "print(np.array(0) / np.array(0))\n",
    "print(np.array(0) // np.array(0))\n",
    "print(np.array([np.nan]).astype(int).astype(float))\n",
    "np.seterr(all=\"ignore\")"
   ]
  },
  {
   "cell_type": "code",
   "execution_count": 44,
   "metadata": {},
   "outputs": [
    {
     "name": "stdout",
     "output_type": "stream",
     "text": [
      "[2 4]\n"
     ]
    }
   ],
   "source": [
    "#30\n",
    "a=([1,2,3,4])\n",
    "b=([2,4,5,6])\n",
    "print(np.intersect1d(a,b))"
   ]
  },
  {
   "cell_type": "code",
   "execution_count": 26,
   "metadata": {},
   "outputs": [
    {
     "name": "stdout",
     "output_type": "stream",
     "text": [
      "[0.90988158 0.54449372 0.83269596 0.68916369 0.86088599]\n",
      "[1. 1. 1. 1. 1.]\n"
     ]
    }
   ],
   "source": [
    "#29\n",
    "arr=np.random.random((5))\n",
    "print(arr)\n",
    "print(np.around(arr))"
   ]
  },
  {
   "cell_type": "code",
   "execution_count": 32,
   "metadata": {},
   "outputs": [
    {
     "name": "stdout",
     "output_type": "stream",
     "text": [
      "False\n"
     ]
    }
   ],
   "source": [
    "#32\n",
    "print(np.sqrt(-1) == np.emath.sqrt(-1))\n"
   ]
  },
  {
   "cell_type": "code",
   "execution_count": 38,
   "metadata": {},
   "outputs": [
    {
     "name": "stdout",
     "output_type": "stream",
     "text": [
      "2020-03-04\n",
      "2020-03-03\n",
      "2020-03-05\n"
     ]
    }
   ],
   "source": [
    "#33\n",
    "today=np.datetime64('today','D')\n",
    "print(today)\n",
    "yesterday=np.datetime64('today','D')-np.timedelta64(1,'D')\n",
    "print(yesterday)\n",
    "tomorrow=np.datetime64('today','D')+np.timedelta64(1,'D')\n",
    "print(tomorrow)\n"
   ]
  },
  {
   "cell_type": "code",
   "execution_count": 42,
   "metadata": {
    "scrolled": true
   },
   "outputs": [
    {
     "name": "stdout",
     "output_type": "stream",
     "text": [
      "['2016-07-01' '2016-07-02' '2016-07-03' '2016-07-04' '2016-07-05'\n",
      " '2016-07-06' '2016-07-07' '2016-07-08' '2016-07-09' '2016-07-10'\n",
      " '2016-07-11' '2016-07-12' '2016-07-13' '2016-07-14' '2016-07-15'\n",
      " '2016-07-16' '2016-07-17' '2016-07-18' '2016-07-19' '2016-07-20'\n",
      " '2016-07-21' '2016-07-22' '2016-07-23' '2016-07-24' '2016-07-25'\n",
      " '2016-07-26' '2016-07-27' '2016-07-28' '2016-07-29' '2016-07-30'\n",
      " '2016-07-31']\n"
     ]
    }
   ],
   "source": [
    "#34\n",
    "d=np.arange(np.datetime64('2016-07-01'),np.datetime64('2016-08-01'))\n",
    "print(d)"
   ]
  },
  {
   "cell_type": "code",
   "execution_count": 54,
   "metadata": {},
   "outputs": [
    {
     "name": "stdout",
     "output_type": "stream",
     "text": [
      "[0.36051917 3.18753797 4.95470905 1.49894854 2.56349869 0.60177525\n",
      " 4.36963527 3.26430544 4.87804204 1.18211935]\n",
      "[0. 3. 5. 1. 3. 1. 4. 3. 5. 1.]\n",
      "[0. 3. 4. 1. 2. 0. 4. 3. 4. 1.]\n",
      "[0. 3. 4. 1. 2. 0. 4. 3. 4. 1.]\n",
      "[0 3 4 1 2 0 4 3 4 1]\n",
      "[0. 3. 4. 1. 2. 0. 4. 3. 4. 1.]\n"
     ]
    }
   ],
   "source": [
    "#36\n",
    "z=np.random.random((10))*5\n",
    "print(z)\n",
    "print(np.round(z))\n",
    "print(np.floor(z))\n",
    "print(np.ceil(z)-1)\n",
    "print(z.astype(int))\n",
    "print(np.trunc(z))"
   ]
  },
  {
   "cell_type": "code",
   "execution_count": 57,
   "metadata": {},
   "outputs": [
    {
     "name": "stdout",
     "output_type": "stream",
     "text": [
      "[[0. 1. 2. 3. 4.]\n",
      " [0. 1. 2. 3. 4.]\n",
      " [0. 1. 2. 3. 4.]\n",
      " [0. 1. 2. 3. 4.]\n",
      " [0. 1. 2. 3. 4.]]\n"
     ]
    }
   ],
   "source": [
    "#37\n",
    "Z = np.zeros((5,5))\n",
    "Z += np.arange(5)\n",
    "print(Z)"
   ]
  },
  {
   "cell_type": "code",
   "execution_count": 69,
   "metadata": {},
   "outputs": [
    {
     "name": "stdout",
     "output_type": "stream",
     "text": [
      "[0 1 2 3 4 5 6 7 8 9]\n"
     ]
    }
   ],
   "source": [
    "#38\n",
    "def generator():\n",
    "    for i in range(10):\n",
    "        yield i\n",
    "arr=np.fromiter(generator(),dtype=int,count=-1)\n",
    "print(arr)"
   ]
  },
  {
   "cell_type": "code",
   "execution_count": 75,
   "metadata": {},
   "outputs": [
    {
     "name": "stdout",
     "output_type": "stream",
     "text": [
      "[0.09090909 0.18181818 0.27272727 0.36363636 0.45454545 0.54545455\n",
      " 0.63636364 0.72727273 0.81818182 0.90909091]\n"
     ]
    }
   ],
   "source": [
    "#39\n",
    "vect=np.linspace(0,1,12)\n",
    "vect=vect[1:11]\n",
    "print(vect)"
   ]
  },
  {
   "cell_type": "code",
   "execution_count": 76,
   "metadata": {},
   "outputs": [
    {
     "data": {
      "text/plain": [
       "array([0.07887781, 0.26350984, 0.31788525, 0.3801898 , 0.50372403,\n",
       "       0.50426497, 0.50630971, 0.50871469, 0.52649229, 0.77708498])"
      ]
     },
     "execution_count": 76,
     "metadata": {},
     "output_type": "execute_result"
    }
   ],
   "source": [
    "#40\n",
    "sort(np.random.random((10)))"
   ]
  },
  {
   "cell_type": "code",
   "execution_count": 77,
   "metadata": {},
   "outputs": [
    {
     "name": "stdout",
     "output_type": "stream",
     "text": [
      "45\n"
     ]
    }
   ],
   "source": [
    "#41\n",
    "arr=np.arange((10))\n",
    "print(np.add.reduce(arr))"
   ]
  },
  {
   "cell_type": "code",
   "execution_count": 79,
   "metadata": {},
   "outputs": [
    {
     "name": "stdout",
     "output_type": "stream",
     "text": [
      "False\n"
     ]
    }
   ],
   "source": [
    "#42\n",
    "a=np.random.random((5))\n",
    "b=np.random.random((5))\n",
    "#print(a==b)\n",
    "print(np.array_equal(a,b))"
   ]
  },
  {
   "cell_type": "code",
   "execution_count": 81,
   "metadata": {},
   "outputs": [
    {
     "name": "stdout",
     "output_type": "stream",
     "text": [
      "[0. 0. 0. 0. 0. 0. 0. 0. 0. 0.]\n"
     ]
    }
   ],
   "source": [
    "#43\n",
    "arr = np.zeros(10)\n",
    "arr.flags.writeable = False\n",
    "print(arr)\n",
    "#arr[5]=1\n"
   ]
  },
  {
   "cell_type": "raw",
   "metadata": {},
   "source": []
  },
  {
   "cell_type": "code",
   "execution_count": 84,
   "metadata": {},
   "outputs": [
    {
     "name": "stdout",
     "output_type": "stream",
     "text": [
      "[0.70141472 1.13701281 0.81392773 0.9842471  0.89882956 0.35974769\n",
      " 0.81294053 1.02305249 1.27610487 0.92312791]\n",
      "[0.3390208  0.91523825 1.17737617 1.03751112 0.23087999 1.48544883\n",
      " 0.58767947 0.53143897 0.81925338 0.6473226 ]\n"
     ]
    }
   ],
   "source": [
    "#44\n",
    "import numpy as np\n",
    "arr= np.random.random((10,2))\n",
    "x,y = arr[:,0], arr[:,1]\n",
    "r = np.sqrt(x**2+y**2)\n",
    "t = np.arctan2(y,x)\n",
    "print(r)\n",
    "print(t)"
   ]
  },
  {
   "cell_type": "code",
   "execution_count": 86,
   "metadata": {},
   "outputs": [
    {
     "name": "stdout",
     "output_type": "stream",
     "text": [
      "[0.7511498  0.97510318 0.41668077 0.69348189 0.22569462 0.90099071\n",
      " 0.50853476 0.4596599  0.50499824 0.10118132]\n",
      "[0.7511498  0.         0.41668077 0.69348189 0.22569462 0.90099071\n",
      " 0.50853476 0.4596599  0.50499824 0.10118132]\n"
     ]
    }
   ],
   "source": [
    "#45\n",
    "arr=np.random.random((10))\n",
    "print(arr)\n",
    "arr[np.argmax(arr)]=0\n",
    "print(arr)"
   ]
  },
  {
   "cell_type": "code",
   "execution_count": 89,
   "metadata": {},
   "outputs": [
    {
     "name": "stdout",
     "output_type": "stream",
     "text": [
      "[[(0.  , 0.  ) (0.25, 0.  ) (0.5 , 0.  ) (0.75, 0.  ) (1.  , 0.  )]\n",
      " [(0.  , 0.25) (0.25, 0.25) (0.5 , 0.25) (0.75, 0.25) (1.  , 0.25)]\n",
      " [(0.  , 0.5 ) (0.25, 0.5 ) (0.5 , 0.5 ) (0.75, 0.5 ) (1.  , 0.5 )]\n",
      " [(0.  , 0.75) (0.25, 0.75) (0.5 , 0.75) (0.75, 0.75) (1.  , 0.75)]\n",
      " [(0.  , 1.  ) (0.25, 1.  ) (0.5 , 1.  ) (0.75, 1.  ) (1.  , 1.  )]]\n"
     ]
    }
   ],
   "source": [
    "#46\n",
    "arr = np.zeros((5,5), [('x',float),('y',float)])\n",
    "arr['x'], arr['y'] = np.meshgrid(np.linspace(0,1,5),np.linspace(0,1,5))\n",
    "print(arr)"
   ]
  },
  {
   "cell_type": "code",
   "execution_count": 97,
   "metadata": {},
   "outputs": [
    {
     "name": "stdout",
     "output_type": "stream",
     "text": [
      "[[-0.25       -0.2        -0.16666667 -0.14285714]\n",
      " [-0.33333333 -0.25       -0.2        -0.16666667]\n",
      " [-0.5        -0.33333333 -0.25       -0.2       ]\n",
      " [-1.         -0.5        -0.33333333 -0.25      ]]\n"
     ]
    }
   ],
   "source": [
    "#47\n",
    "x=np.array([1,2,3,4])\n",
    "y=np.array([5,6,7,8])\n",
    "print(1.0/(x[:,np.newaxis]-y))"
   ]
  },
  {
   "cell_type": "code",
   "execution_count": 99,
   "metadata": {},
   "outputs": [
    {
     "name": "stdout",
     "output_type": "stream",
     "text": [
      "[[-0.25       -0.2        -0.16666667 -0.14285714]\n",
      " [-0.33333333 -0.25       -0.2        -0.16666667]\n",
      " [-0.5        -0.33333333 -0.25       -0.2       ]\n",
      " [-1.         -0.5        -0.33333333 -0.25      ]]\n"
     ]
    }
   ],
   "source": [
    "#47 way 2\n",
    "x=np.array([1,2,3,4]).reshape((-1,1))\n",
    "y=np.array([5,6,7,8])\n",
    "print(1/(x-y))"
   ]
  },
  {
   "cell_type": "code",
   "execution_count": 107,
   "metadata": {},
   "outputs": [
    {
     "name": "stdout",
     "output_type": "stream",
     "text": [
      "-128\n",
      "127\n",
      "-2147483648\n",
      "2147483647\n",
      "-9223372036854775808\n",
      "9223372036854775807\n",
      "-3.4028235e+38\n",
      "3.4028235e+38\n",
      "1.1920929e-07\n",
      "-1.7976931348623157e+308\n",
      "1.7976931348623157e+308\n",
      "2.220446049250313e-16\n"
     ]
    }
   ],
   "source": [
    "#48\n",
    "list=[np.int8, np.int32, np.int64]\n",
    "for i in list:\n",
    "   print(np.iinfo(i).min)\n",
    "   print(np.iinfo(i).max)\n",
    "list1=[np.float32, np.float64]\n",
    "for i in list1:\n",
    "   print(np.finfo(i).min)\n",
    "   print(np.finfo(i).max)\n",
    "   print(np.finfo(i).eps)"
   ]
  },
  {
   "cell_type": "code",
   "execution_count": 108,
   "metadata": {},
   "outputs": [
    {
     "name": "stdout",
     "output_type": "stream",
     "text": [
      "[[0.89792166 0.8491503  0.32493288 0.58496134 0.05777691]\n",
      " [0.36551258 0.33911073 0.28252772 0.25775035 0.62285777]\n",
      " [0.54966785 0.2436911  0.58372255 0.54756699 0.92593724]\n",
      " [0.53245886 0.98745816 0.71318978 0.42031034 0.96986376]\n",
      " [0.34557708 0.82943976 0.66679854 0.19004004 0.53710944]]\n"
     ]
    }
   ],
   "source": [
    "#49\n",
    "arr=np.random.random((5,5))\n",
    "print(arr)"
   ]
  },
  {
   "cell_type": "code",
   "execution_count": 115,
   "metadata": {},
   "outputs": [
    {
     "name": "stdout",
     "output_type": "stream",
     "text": [
      "4.257528984078991\n"
     ]
    }
   ],
   "source": [
    "#50\n",
    "arr=np.random.uniform((3,5))\n",
    "print(arr[(np.abs(arr-5)).argmin()])\n"
   ]
  },
  {
   "cell_type": "code",
   "execution_count": null,
   "metadata": {},
   "outputs": [],
   "source": []
  }
 ],
 "metadata": {
  "kernelspec": {
   "display_name": "Python 3",
   "language": "python",
   "name": "python3"
  },
  "language_info": {
   "codemirror_mode": {
    "name": "ipython",
    "version": 3
   },
   "file_extension": ".py",
   "mimetype": "text/x-python",
   "name": "python",
   "nbconvert_exporter": "python",
   "pygments_lexer": "ipython3",
   "version": "3.7.4"
  }
 },
 "nbformat": 4,
 "nbformat_minor": 2
}
